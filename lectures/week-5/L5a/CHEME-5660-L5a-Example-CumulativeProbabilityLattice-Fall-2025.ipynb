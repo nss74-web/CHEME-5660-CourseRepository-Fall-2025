{
 "cells": [
  {
   "cell_type": "markdown",
   "id": "6975414a-e4ef-4c81-973c-fc07d9919711",
   "metadata": {},
   "source": [
    "# Example: Let's Explore Binomial Lattice Model Trade Exit Rules\n",
    "In this example, we will test the binomial lattice model trade exit rules we developed in lecture.\n",
    "In particular, we will use a binomial lattice model to compute the cumulative probability of achieving at least a target fractional return (ROI) of $r_{\\star}$ (or alternatively, a target fractional loss of $-r_{\\star}$) over a holding period of $T=i\\Delta{t}$.\n",
    "\n",
    "> __Leaning Objectives__\n",
    "> \n",
    "> Fill me in later!\n",
    "\n",
    "This sounds cool, so let's get started!\n",
    "___"
   ]
  },
  {
   "cell_type": "markdown",
   "id": "46ef69de",
   "metadata": {},
   "source": []
  }
 ],
 "metadata": {
  "kernelspec": {
   "display_name": "Julia 1.11.6",
   "language": "julia",
   "name": "julia-1.11"
  },
  "language_info": {
   "name": ""
  }
 },
 "nbformat": 4,
 "nbformat_minor": 5
}
